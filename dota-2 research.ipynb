{
 "cells": [
  {
   "cell_type": "code",
   "execution_count": 2,
   "metadata": {},
   "outputs": [],
   "source": [
    "from sklearn.ensemble import GradientBoostingClassifier\n",
    "from sklearn.model_selection import cross_val_score\n",
    "from sklearn.model_selection import KFold\n",
    "from sklearn.preprocessing import StandardScaler\n",
    "from sklearn.linear_model import LogisticRegression\n",
    "from sklearn.pipeline import Pipeline\n",
    "import pandas as pd\n",
    "import numpy as np\n",
    "import time\n",
    "import datetime\n",
    "import matplotlib.pyplot as plt"
   ]
  },
  {
   "cell_type": "markdown",
   "metadata": {},
   "source": [
    "# Чтение данных"
   ]
  },
  {
   "cell_type": "code",
   "execution_count": 39,
   "metadata": {},
   "outputs": [
    {
     "data": {
      "text/html": [
       "<div>\n",
       "<style scoped>\n",
       "    .dataframe tbody tr th:only-of-type {\n",
       "        vertical-align: middle;\n",
       "    }\n",
       "\n",
       "    .dataframe tbody tr th {\n",
       "        vertical-align: top;\n",
       "    }\n",
       "\n",
       "    .dataframe thead th {\n",
       "        text-align: right;\n",
       "    }\n",
       "</style>\n",
       "<table border=\"1\" class=\"dataframe\">\n",
       "  <thead>\n",
       "    <tr style=\"text-align: right;\">\n",
       "      <th></th>\n",
       "      <th>start_time</th>\n",
       "      <th>lobby_type</th>\n",
       "      <th>r1_hero</th>\n",
       "      <th>r1_level</th>\n",
       "      <th>r1_xp</th>\n",
       "      <th>r1_gold</th>\n",
       "      <th>r1_lh</th>\n",
       "      <th>r1_kills</th>\n",
       "      <th>r1_deaths</th>\n",
       "      <th>r1_items</th>\n",
       "      <th>...</th>\n",
       "      <th>dire_boots_count</th>\n",
       "      <th>dire_ward_observer_count</th>\n",
       "      <th>dire_ward_sentry_count</th>\n",
       "      <th>dire_first_ward_time</th>\n",
       "      <th>duration</th>\n",
       "      <th>radiant_win</th>\n",
       "      <th>tower_status_radiant</th>\n",
       "      <th>tower_status_dire</th>\n",
       "      <th>barracks_status_radiant</th>\n",
       "      <th>barracks_status_dire</th>\n",
       "    </tr>\n",
       "    <tr>\n",
       "      <th>match_id</th>\n",
       "      <th></th>\n",
       "      <th></th>\n",
       "      <th></th>\n",
       "      <th></th>\n",
       "      <th></th>\n",
       "      <th></th>\n",
       "      <th></th>\n",
       "      <th></th>\n",
       "      <th></th>\n",
       "      <th></th>\n",
       "      <th></th>\n",
       "      <th></th>\n",
       "      <th></th>\n",
       "      <th></th>\n",
       "      <th></th>\n",
       "      <th></th>\n",
       "      <th></th>\n",
       "      <th></th>\n",
       "      <th></th>\n",
       "      <th></th>\n",
       "      <th></th>\n",
       "    </tr>\n",
       "  </thead>\n",
       "  <tbody>\n",
       "    <tr>\n",
       "      <th>0</th>\n",
       "      <td>1430198770</td>\n",
       "      <td>7</td>\n",
       "      <td>11</td>\n",
       "      <td>5</td>\n",
       "      <td>2098</td>\n",
       "      <td>1489</td>\n",
       "      <td>20</td>\n",
       "      <td>0</td>\n",
       "      <td>0</td>\n",
       "      <td>7</td>\n",
       "      <td>...</td>\n",
       "      <td>4</td>\n",
       "      <td>2</td>\n",
       "      <td>2</td>\n",
       "      <td>-52.0</td>\n",
       "      <td>2874</td>\n",
       "      <td>1</td>\n",
       "      <td>1796</td>\n",
       "      <td>0</td>\n",
       "      <td>51</td>\n",
       "      <td>0</td>\n",
       "    </tr>\n",
       "    <tr>\n",
       "      <th>1</th>\n",
       "      <td>1430220345</td>\n",
       "      <td>0</td>\n",
       "      <td>42</td>\n",
       "      <td>4</td>\n",
       "      <td>1188</td>\n",
       "      <td>1033</td>\n",
       "      <td>9</td>\n",
       "      <td>0</td>\n",
       "      <td>1</td>\n",
       "      <td>12</td>\n",
       "      <td>...</td>\n",
       "      <td>4</td>\n",
       "      <td>3</td>\n",
       "      <td>1</td>\n",
       "      <td>-5.0</td>\n",
       "      <td>2463</td>\n",
       "      <td>1</td>\n",
       "      <td>1974</td>\n",
       "      <td>0</td>\n",
       "      <td>63</td>\n",
       "      <td>1</td>\n",
       "    </tr>\n",
       "    <tr>\n",
       "      <th>2</th>\n",
       "      <td>1430227081</td>\n",
       "      <td>7</td>\n",
       "      <td>33</td>\n",
       "      <td>4</td>\n",
       "      <td>1319</td>\n",
       "      <td>1270</td>\n",
       "      <td>22</td>\n",
       "      <td>0</td>\n",
       "      <td>0</td>\n",
       "      <td>12</td>\n",
       "      <td>...</td>\n",
       "      <td>4</td>\n",
       "      <td>3</td>\n",
       "      <td>1</td>\n",
       "      <td>13.0</td>\n",
       "      <td>2130</td>\n",
       "      <td>0</td>\n",
       "      <td>0</td>\n",
       "      <td>1830</td>\n",
       "      <td>0</td>\n",
       "      <td>63</td>\n",
       "    </tr>\n",
       "    <tr>\n",
       "      <th>3</th>\n",
       "      <td>1430263531</td>\n",
       "      <td>1</td>\n",
       "      <td>29</td>\n",
       "      <td>4</td>\n",
       "      <td>1779</td>\n",
       "      <td>1056</td>\n",
       "      <td>14</td>\n",
       "      <td>0</td>\n",
       "      <td>0</td>\n",
       "      <td>5</td>\n",
       "      <td>...</td>\n",
       "      <td>4</td>\n",
       "      <td>2</td>\n",
       "      <td>0</td>\n",
       "      <td>27.0</td>\n",
       "      <td>1459</td>\n",
       "      <td>0</td>\n",
       "      <td>1920</td>\n",
       "      <td>2047</td>\n",
       "      <td>50</td>\n",
       "      <td>63</td>\n",
       "    </tr>\n",
       "    <tr>\n",
       "      <th>4</th>\n",
       "      <td>1430282290</td>\n",
       "      <td>7</td>\n",
       "      <td>13</td>\n",
       "      <td>4</td>\n",
       "      <td>1431</td>\n",
       "      <td>1090</td>\n",
       "      <td>8</td>\n",
       "      <td>1</td>\n",
       "      <td>0</td>\n",
       "      <td>8</td>\n",
       "      <td>...</td>\n",
       "      <td>3</td>\n",
       "      <td>3</td>\n",
       "      <td>0</td>\n",
       "      <td>-16.0</td>\n",
       "      <td>2449</td>\n",
       "      <td>0</td>\n",
       "      <td>4</td>\n",
       "      <td>1974</td>\n",
       "      <td>3</td>\n",
       "      <td>63</td>\n",
       "    </tr>\n",
       "  </tbody>\n",
       "</table>\n",
       "<p>5 rows × 108 columns</p>\n",
       "</div>"
      ],
      "text/plain": [
       "          start_time  lobby_type  r1_hero  r1_level  r1_xp  r1_gold  r1_lh  \\\n",
       "match_id                                                                     \n",
       "0         1430198770           7       11         5   2098     1489     20   \n",
       "1         1430220345           0       42         4   1188     1033      9   \n",
       "2         1430227081           7       33         4   1319     1270     22   \n",
       "3         1430263531           1       29         4   1779     1056     14   \n",
       "4         1430282290           7       13         4   1431     1090      8   \n",
       "\n",
       "          r1_kills  r1_deaths  r1_items  ...  dire_boots_count  \\\n",
       "match_id                                 ...                     \n",
       "0                0          0         7  ...                 4   \n",
       "1                0          1        12  ...                 4   \n",
       "2                0          0        12  ...                 4   \n",
       "3                0          0         5  ...                 4   \n",
       "4                1          0         8  ...                 3   \n",
       "\n",
       "          dire_ward_observer_count  dire_ward_sentry_count  \\\n",
       "match_id                                                     \n",
       "0                                2                       2   \n",
       "1                                3                       1   \n",
       "2                                3                       1   \n",
       "3                                2                       0   \n",
       "4                                3                       0   \n",
       "\n",
       "          dire_first_ward_time  duration  radiant_win  tower_status_radiant  \\\n",
       "match_id                                                                      \n",
       "0                        -52.0      2874            1                  1796   \n",
       "1                         -5.0      2463            1                  1974   \n",
       "2                         13.0      2130            0                     0   \n",
       "3                         27.0      1459            0                  1920   \n",
       "4                        -16.0      2449            0                     4   \n",
       "\n",
       "          tower_status_dire  barracks_status_radiant  barracks_status_dire  \n",
       "match_id                                                                    \n",
       "0                         0                       51                     0  \n",
       "1                         0                       63                     1  \n",
       "2                      1830                        0                    63  \n",
       "3                      2047                       50                    63  \n",
       "4                      1974                        3                    63  \n",
       "\n",
       "[5 rows x 108 columns]"
      ]
     },
     "execution_count": 39,
     "metadata": {},
     "output_type": "execute_result"
    }
   ],
   "source": [
    "train = pd.read_csv('features.csv', index_col='match_id')\n",
    "\n",
    "train.head()"
   ]
  },
  {
   "cell_type": "markdown",
   "metadata": {},
   "source": [
    "## 1. Поиск пропусков.\n",
    "Найдём все столбцы, в которых есть пропуски."
   ]
  },
  {
   "cell_type": "code",
   "execution_count": 40,
   "metadata": {},
   "outputs": [
    {
     "data": {
      "text/plain": [
       "['first_blood_time',\n",
       " 'first_blood_team',\n",
       " 'first_blood_player1',\n",
       " 'first_blood_player2',\n",
       " 'radiant_bottle_time',\n",
       " 'radiant_courier_time',\n",
       " 'radiant_flying_courier_time',\n",
       " 'radiant_first_ward_time',\n",
       " 'dire_bottle_time',\n",
       " 'dire_courier_time',\n",
       " 'dire_flying_courier_time',\n",
       " 'dire_first_ward_time']"
      ]
     },
     "execution_count": 40,
     "metadata": {},
     "output_type": "execute_result"
    }
   ],
   "source": [
    "train.columns[train.isna().any()].tolist()"
   ]
  },
  {
   "cell_type": "markdown",
   "metadata": {},
   "source": [
    "- пропуски связаны с тем, что событие ещё не произошло за первые 5 минут. Например, не произошло первое убийство, поэтому есть пропуски в колонках `first_blood_time`, `first_blood_team`."
   ]
  },
  {
   "cell_type": "markdown",
   "metadata": {},
   "source": [
    "### Заполнение пропусков\n",
    "- всё что связано со временем, нужно заполнить некоторым специальным значением. По хорошему, нужно взять полный датасет и проставить среднее значение по данному параметру за всю игру. В качестве приближения возьмём 10 минут (из опыта игры в `Dota 2` :) "
   ]
  },
  {
   "cell_type": "code",
   "execution_count": 41,
   "metadata": {},
   "outputs": [],
   "source": [
    "features_with_time = [\n",
    " 'first_blood_time', \n",
    " 'radiant_bottle_time',\n",
    " 'radiant_courier_time',\n",
    " 'radiant_flying_courier_time',\n",
    " 'radiant_first_ward_time',\n",
    " 'dire_bottle_time',\n",
    " 'dire_courier_time',\n",
    " 'dire_flying_courier_time',\n",
    " 'dire_first_ward_time']\n",
    "\n",
    "train[features_with_time] = train[features_with_time].fillna(600)"
   ]
  },
  {
   "cell_type": "markdown",
   "metadata": {},
   "source": [
    "- `first_blood_team` заполним значением `0.5`, чтобы сохранить порядок на множестве.\n",
    "- `first_blood_player` заполним специальным значением `10`. Обычные значения из множества $\\{0, \\ldots, 9 \\}$."
   ]
  },
  {
   "cell_type": "code",
   "execution_count": 42,
   "metadata": {},
   "outputs": [],
   "source": [
    "train['first_blood_team'] = train['first_blood_team'].fillna(0.5)\n",
    "train['first_blood_player1'] = train['first_blood_player1'].fillna(10)\n",
    "train['first_blood_player2'] = train['first_blood_player2'].fillna(10)"
   ]
  },
  {
   "cell_type": "markdown",
   "metadata": {},
   "source": [
    "### Целевая переменная"
   ]
  },
  {
   "cell_type": "code",
   "execution_count": 33,
   "metadata": {},
   "outputs": [
    {
     "data": {
      "text/plain": [
       "0        1\n",
       "1        1\n",
       "2        0\n",
       "3        0\n",
       "4        0\n",
       "        ..\n",
       "97225    0\n",
       "97226    1\n",
       "97227    0\n",
       "97228    0\n",
       "97229    1\n",
       "Name: radiant_win, Length: 97230, dtype: int64"
      ]
     },
     "execution_count": 33,
     "metadata": {},
     "output_type": "execute_result"
    }
   ],
   "source": [
    "train['radiant_win']"
   ]
  },
  {
   "cell_type": "markdown",
   "metadata": {},
   "source": [
    "- в данной колонке нет пропуском, значит данные размечены. `radiant_win = 1` означает победу сил света, `radiant = 0` -- победу сил тьмы. "
   ]
  },
  {
   "cell_type": "markdown",
   "metadata": {},
   "source": [
    "### Подготовка данных"
   ]
  },
  {
   "cell_type": "markdown",
   "metadata": {},
   "source": [
    "- удалим признаки, которые содержат данные не о первых пяти минутах."
   ]
  },
  {
   "cell_type": "code",
   "execution_count": 43,
   "metadata": {},
   "outputs": [],
   "source": [
    "Y = np.array(train['radiant_win'])\n",
    "\n",
    "del train['radiant_win']\n",
    "del train['duration']\n",
    "del train['tower_status_radiant']\n",
    "del train['tower_status_dire']\n",
    "del train['barracks_status_radiant']\n",
    "del train['barracks_status_dire']\n",
    "\n",
    "\n",
    "X = np.array(train)"
   ]
  },
  {
   "cell_type": "markdown",
   "metadata": {},
   "source": [
    "## 2. Gradient boosting.\n",
    "- проведём обучение на 10, 20, 30, 40, 50 деревьях, замерим время работы на кросс-валидации. Время будем замерять с помощью `datetime`.\n",
    "- препроцессинг данных не будем проводить, так как метод нетребователен к данным.\n",
    "- метрика качества -- `AUC-ROC`."
   ]
  },
  {
   "cell_type": "code",
   "execution_count": 75,
   "metadata": {},
   "outputs": [],
   "source": [
    "cv = KFold(shuffle=True, random_state=241)"
   ]
  },
  {
   "cell_type": "code",
   "execution_count": 76,
   "metadata": {},
   "outputs": [
    {
     "name": "stdout",
     "output_type": "stream",
     "text": [
      "Time elapsed = 0:00:55.871154 for 10 trees\n",
      "Time elapsed = 0:02:04.784273 for 20 trees\n",
      "Time elapsed = 0:03:01.295654 for 30 trees\n",
      "Time elapsed = 0:04:04.513298 for 40 trees\n",
      "Time elapsed = 0:04:59.966240 for 50 trees\n"
     ]
    }
   ],
   "source": [
    "n_tree = [10, 20, 30, 40, 50]\n",
    "\n",
    "scores = []\n",
    "\n",
    "for N in n_tree:\n",
    "    start_time = datetime.datetime.now()\n",
    "    clf = GradientBoostingClassifier(n_estimators=N, random_state=241)\n",
    "    score = cross_val_score(estimator=clf, X=X, y=Y, cv=cv, scoring='roc_auc')\n",
    "    print (f'Time elapsed = {datetime.datetime.now() - start_time} for {N} trees')\n",
    "    scores.append(np.mean(score))"
   ]
  },
  {
   "cell_type": "markdown",
   "metadata": {},
   "source": [
    "### Визуализация \n",
    "- построим зависимость `scores` от `n_tree`. Исследуем переобучаемость алгоритма."
   ]
  },
  {
   "cell_type": "code",
   "execution_count": 77,
   "metadata": {},
   "outputs": [
    {
     "data": {
      "image/png": "[encoded data removed]",
      "text/plain": [
       "<Figure size 1152x648 with 1 Axes>"
      ]
     },
     "metadata": {},
     "output_type": "display_data"
    }
   ],
   "source": [
    "plt.figure(figsize=(16, 9))\n",
    "\n",
    "plt.scatter(\n",
    "    n_tree,\n",
    "    scores\n",
    ")\n",
    "\n",
    "plt.ylabel('Результат кросс-валидации')\n",
    "plt.xlabel('Количество деревьев')\n",
    "plt.grid()\n",
    "plt.show()"
   ]
  },
  {
   "cell_type": "code",
   "execution_count": 78,
   "metadata": {},
   "outputs": [
    {
     "name": "stdout",
     "output_type": "stream",
     "text": [
      "Best_score = 0.6976363079929154\n"
     ]
    }
   ],
   "source": [
    "print(f'Best_score = {np.max(scores)}')"
   ]
  },
  {
   "cell_type": "markdown",
   "metadata": {},
   "source": [
    "- из графика видно, что результат кросс-валидации растёт. Но это может говорить, как о переобучаемости алгоритма, так и о его лучшей настройке. Но как показывает практика оптимальное значение деревьев около 30-50 при `learning_rate = 0.1; 0.2`."
   ]
  },
  {
   "cell_type": "markdown",
   "metadata": {},
   "source": [
    "### Уменьшение времени обучения\n",
    "- обучим алгоритм с меньшим значением `max_depth` и сравним время, и значение метрики."
   ]
  },
  {
   "cell_type": "code",
   "execution_count": 79,
   "metadata": {},
   "outputs": [
    {
     "name": "stdout",
     "output_type": "stream",
     "text": [
      "Time elapsed = 0:01:59.086120 for 30 trees and max_depth = 2\n",
      "score = 0.682146778547861\n"
     ]
    }
   ],
   "source": [
    "start_time = datetime.datetime.now()\n",
    "clf = GradientBoostingClassifier(n_estimators=30, random_state=241, max_depth=2)\n",
    "score = cross_val_score(estimator=clf, X=X, y=Y, cv=cv, scoring='roc_auc')\n",
    "print (f'Time elapsed = {datetime.datetime.now() - start_time} for 30 trees and max_depth = 2')\n",
    "print(f'score = {np.mean(score)}')"
   ]
  },
  {
   "cell_type": "markdown",
   "metadata": {},
   "source": [
    "### Вывод:\n",
    "- алгоритм довольно долго обучается, причём скорость обучения линейно зависит от количесва деревьев.\n",
    "- качество обучения оптимально при количестве деревьев около 30-50 при `learning_rate`, поэтому можно снизить время обучения за счёт обучения, например, не при 50 деревьях, а при 30. Зачастую это будет лучше и с точки зрения переобучения.\n",
    "- также время обучения можно умньшить за счёт уменьшения максимальной глубины деревьев `max_depth`, но так же придётся немного пожертвовать `cross_val_score`.\n",
    "- можно уменьшить выборку для обучения, что также повлечёт уменьшение времени обучения."
   ]
  },
  {
   "cell_type": "markdown",
   "metadata": {},
   "source": [
    "## 3. Логистическая регрессия.\n",
    "Линейные классификаторы обучаются быстрее градиентного бустинга, но они более требовательны ко входным данным."
   ]
  },
  {
   "cell_type": "markdown",
   "metadata": {},
   "source": [
    "- будем проводить обучение с $L_2$ регуляризацией. Найдём оптимальную константу регуляризации из кросс-валидации.\n",
    "- из препроцессинга данных сделаем пока только `Scale` всех признаков."
   ]
  },
  {
   "cell_type": "code",
   "execution_count": 44,
   "metadata": {},
   "outputs": [
    {
     "name": "stdout",
     "output_type": "stream",
     "text": [
      "Time elapsed = 0:00:08.143715 for C=1\n",
      "Time elapsed = 0:00:07.878546 for C=3\n",
      "Time elapsed = 0:00:08.999619 for C=5\n",
      "Time elapsed = 0:00:08.166056 for C=7\n",
      "Time elapsed = 0:00:07.601382 for C=9\n",
      "Time elapsed = 0:00:07.680835 for C=11\n",
      "Time elapsed = 0:00:07.724944 for C=13\n",
      "Time elapsed = 0:00:07.481317 for C=15\n",
      "Time elapsed = 0:00:07.683566 for C=17\n",
      "Time elapsed = 0:00:08.076468 for C=19\n",
      "Time elapsed = 0:00:07.532388 for C=21\n"
     ]
    }
   ],
   "source": [
    "C_values = [i for i in range(1, 22, 2)]\n",
    "\n",
    "scaler = StandardScaler()\n",
    "cv = KFold(shuffle=True, random_state=241)\n",
    "\n",
    "#find best C\n",
    "C_best = 0\n",
    "best_score = 0\n",
    "scores = []\n",
    "\n",
    "for C_ in C_values:\n",
    "    start_time = datetime.datetime.now()\n",
    "    clf = LogisticRegression(penalty='l2', random_state=241, C=C_)\n",
    "    pipeline = Pipeline([('transformer', scaler), ('estimator', clf)])\n",
    "    scores_ = cross_val_score(pipeline, X, Y, cv = cv, scoring='roc_auc')\n",
    "    print (f'Time elapsed = {datetime.datetime.now() - start_time} for C={C_}')\n",
    "    scores.append(np.mean(scores_))\n",
    "    if np.mean(scores_) > best_score:\n",
    "        best_score = np.mean(scores_)\n",
    "        C_best = C_\n",
    " "
   ]
  },
  {
   "cell_type": "markdown",
   "metadata": {},
   "source": [
    "### Визуализация\n",
    "Проиллюстрируем зависимость метрики качества от константы регуляризации."
   ]
  },
  {
   "cell_type": "code",
   "execution_count": 45,
   "metadata": {},
   "outputs": [
    {
     "data": {
      "image/png": "[encoded data removed]",
      "text/plain": [
       "<Figure size 1152x648 with 1 Axes>"
      ]
     },
     "metadata": {},
     "output_type": "display_data"
    }
   ],
   "source": [
    "plt.figure(figsize=(16, 9))\n",
    "\n",
    "plt.scatter(\n",
    "    C_values,\n",
    "    scores\n",
    ")\n",
    "\n",
    "plt.ylabel('Результат кросс-валидации')\n",
    "plt.xlabel('Значение константы регуляризации')\n",
    "plt.grid()\n",
    "plt.show()"
   ]
  },
  {
   "cell_type": "code",
   "execution_count": 16,
   "metadata": {},
   "outputs": [
    {
     "name": "stdout",
     "output_type": "stream",
     "text": [
      "Best score = 0.7161888044326512, C = 1\n"
     ]
    }
   ],
   "source": [
    "print(f'Best score = {best_score}, C = {C_best}')"
   ]
  },
  {
   "cell_type": "markdown",
   "metadata": {},
   "source": [
    "### Вывод\n",
    "- линейный классификатор намного быстрее обучается, что является несомненным плюсом.\n",
    "- так же при значении `C = 1` результат на кросс-валидации лучшем, чем у градиентного бустинга. Конечно в градиентном бустинге можно было бы выбрать большее количество деревье, и тогда этот метод показал бы лучший результат, но слишком велик шанс переобучения.\n",
    "- данные действительно пришлось несколько обработать, но до сих пор данные довольно в сыром виде. Попытаемся дальше улучшить качество входных данных и повысить результат."
   ]
  },
  {
   "cell_type": "markdown",
   "metadata": {},
   "source": [
    "## 3.1 Логистическая регрессия с препроцессингом\n",
    "- сначала просто попробуем удалить категориальные признаки"
   ]
  },
  {
   "cell_type": "code",
   "execution_count": 48,
   "metadata": {},
   "outputs": [],
   "source": [
    "#delete features\n",
    "cat_f = [\n",
    "    'lobby_type',\n",
    "    'r1_hero',\n",
    "    'r2_hero', \n",
    "    'r3_hero', \n",
    "    'r4_hero',\n",
    "    'r5_hero',\n",
    "    'd1_hero', \n",
    "    'd2_hero', \n",
    "    'd3_hero', \n",
    "    'd4_hero',\n",
    "    'd5_hero'\n",
    "]\n",
    "\n",
    "col_without_cat = list(set(train.columns[:].tolist()) - set(cat_f))\n",
    "\n",
    "X_wc = np.array(train[col_without_cat])"
   ]
  },
  {
   "cell_type": "code",
   "execution_count": 49,
   "metadata": {},
   "outputs": [
    {
     "name": "stdout",
     "output_type": "stream",
     "text": [
      "Score without category feature = 0.7162151113018425\n"
     ]
    }
   ],
   "source": [
    "clf = LogisticRegression(penalty='l2', random_state=241, C=1) \n",
    "pipeline = Pipeline([('transformer', scaler), ('estimator', clf)])\n",
    "scores_ = cross_val_score(pipeline, X_wc, Y, cv = cv, scoring='roc_auc')\n",
    "print(f'Score without category feature = {np.mean(scores_)}')"
   ]
  },
  {
   "cell_type": "markdown",
   "metadata": {},
   "source": [
    "### Замечание\n",
    "- качество уже улучшилось, так как мы раньше по ошибке принимали категориальные признаки за числовые.\n",
    "- на самом деле это важные категориальные признаки, можно их аккуратно добавить обратно и тем самым повысить качество классификатора."
   ]
  },
  {
   "cell_type": "code",
   "execution_count": 50,
   "metadata": {},
   "outputs": [
    {
     "name": "stdout",
     "output_type": "stream",
     "text": [
      "Number of heroes = 112\n"
     ]
    }
   ],
   "source": [
    "for_counting = train['r1_hero']\n",
    "num_heroes = max(for_counting)\n",
    "print(f'Number of heroes = {num_heroes}')"
   ]
  },
  {
   "cell_type": "markdown",
   "metadata": {},
   "source": [
    " ### Формирование мешка слов."
   ]
  },
  {
   "cell_type": "code",
   "execution_count": 51,
   "metadata": {},
   "outputs": [],
   "source": [
    "X_pick = np.zeros((len(train), num_heroes))"
   ]
  },
  {
   "cell_type": "code",
   "execution_count": 52,
   "metadata": {},
   "outputs": [],
   "source": [
    "X_pick = pd.DataFrame(X_pick)\n",
    "for i, match_id in enumerate(train.index):\n",
    "    for p in range(5):\n",
    "        X_pick.iloc[i, train.loc[match_id, 'r%d_hero' % (p+1)]-1] = 1\n",
    "        X_pick.iloc[i, train.loc[match_id, 'd%d_hero' % (p+1)]-1] = -1"
   ]
  },
  {
   "cell_type": "code",
   "execution_count": 53,
   "metadata": {},
   "outputs": [],
   "source": [
    "X_pick.index = train.index"
   ]
  },
  {
   "cell_type": "code",
   "execution_count": 54,
   "metadata": {},
   "outputs": [],
   "source": [
    "#prepare data\n",
    "X_preprocessed = pd.concat([train[col_without_cat], X_pick], \n",
    "                           axis=1)"
   ]
  },
  {
   "cell_type": "markdown",
   "metadata": {},
   "source": [
    "### Обучение"
   ]
  },
  {
   "cell_type": "code",
   "execution_count": 55,
   "metadata": {},
   "outputs": [
    {
     "name": "stdout",
     "output_type": "stream",
     "text": [
      "Score with preprocessed data = 0.7520702038814976\n"
     ]
    }
   ],
   "source": [
    "clf = LogisticRegression(penalty='l2', random_state=241, C=1) \n",
    "pipeline = Pipeline([('transformer', scaler), ('estimator', clf)])\n",
    "scores_ = cross_val_score(pipeline, X_preprocessed, Y, cv = cv, scoring='roc_auc')\n",
    "print(f'Score with preprocessed data = {np.mean(scores_)}')"
   ]
  },
  {
   "cell_type": "code",
   "execution_count": 56,
   "metadata": {},
   "outputs": [
    {
     "data": {
      "text/plain": [
       "LogisticRegression(C=1, random_state=241)"
      ]
     },
     "execution_count": 56,
     "metadata": {},
     "output_type": "execute_result"
    }
   ],
   "source": [
    "clf.fit(X_preprocessed, Y)"
   ]
  },
  {
   "cell_type": "markdown",
   "metadata": {},
   "source": [
    "### Вывод\n",
    "- Постепенная обработка данных дала прирост `score` с 0.716 до 0.752. \n",
    "- Основной вклад в прирост дало формирование мешков по категориальным признакам. Это говорит о том, что действительно, как и предполагалось, эти признаки были важны."
   ]
  },
  {
   "cell_type": "markdown",
   "metadata": {},
   "source": [
    "## 4. Проверка финальной модели"
   ]
  },
  {
   "cell_type": "code",
   "execution_count": 57,
   "metadata": {},
   "outputs": [],
   "source": [
    "test = pd.read_csv('features_test.csv', index_col='match_id')"
   ]
  },
  {
   "cell_type": "markdown",
   "metadata": {},
   "source": [
    "### Препроцессинг"
   ]
  },
  {
   "cell_type": "code",
   "execution_count": 58,
   "metadata": {},
   "outputs": [],
   "source": [
    "#fill NaN\n",
    "test[features_with_time] = test[features_with_time].fillna(600)\n",
    "test['first_blood_team'] = test['first_blood_team'].fillna(0.5)\n",
    "test['first_blood_player1'] = test['first_blood_player1'].fillna(10)\n",
    "test['first_blood_player2'] = test['first_blood_player2'].fillna(10)"
   ]
  },
  {
   "cell_type": "code",
   "execution_count": 60,
   "metadata": {},
   "outputs": [],
   "source": [
    "#make X_pick_test\n",
    "X_pick_test = np.zeros((len(test), num_heroes))\n",
    "\n",
    "X_pick_test = pd.DataFrame(X_pick_test)\n",
    "for i, match_id in enumerate(test.index):\n",
    "    for p in range(5):\n",
    "        X_pick_test.iloc[i, test.loc[match_id, 'r%d_hero' % (p+1)]-1] = 1\n",
    "        X_pick_test.iloc[i, test.loc[match_id, 'd%d_hero' % (p+1)]-1] = -1\n",
    "\n",
    "X_pick_test.index = test.index"
   ]
  },
  {
   "cell_type": "code",
   "execution_count": 68,
   "metadata": {},
   "outputs": [],
   "source": [
    "#prepare data\n",
    "X_test = pd.concat([test[col_without_cat], X_pick_test], \n",
    "                           axis=1)"
   ]
  },
  {
   "cell_type": "code",
   "execution_count": 69,
   "metadata": {},
   "outputs": [],
   "source": [
    "#scaling\n",
    "X_preprocessed = scaler.fit_transform(X_preprocessed)\n",
    "X_test = scaler.transform(X_test)"
   ]
  },
  {
   "cell_type": "markdown",
   "metadata": {},
   "source": [
    "### Обучение"
   ]
  },
  {
   "cell_type": "code",
   "execution_count": 70,
   "metadata": {},
   "outputs": [],
   "source": [
    "clf_best = LogisticRegression(penalty='l2', random_state=241, C=1).fit(X_preprocessed, Y)"
   ]
  },
  {
   "cell_type": "code",
   "execution_count": 71,
   "metadata": {},
   "outputs": [],
   "source": [
    "probas = clf_best.predict_proba(X_test)"
   ]
  },
  {
   "cell_type": "code",
   "execution_count": 72,
   "metadata": {},
   "outputs": [
    {
     "name": "stdout",
     "output_type": "stream",
     "text": [
      "max probability = 0.9966766901982358\n",
      "min probability = 0.006993583091764165\n"
     ]
    }
   ],
   "source": [
    "print(f'max probability = {max(probas[:, 1])}')\n",
    "print(f'min probability = {min(probas[:, 1])}')"
   ]
  },
  {
   "cell_type": "code",
   "execution_count": 74,
   "metadata": {},
   "outputs": [
    {
     "data": {
      "image/png": "[encoded data removed]",
      "text/plain": [
       "<Figure size 1152x648 with 1 Axes>"
      ]
     },
     "metadata": {},
     "output_type": "display_data"
    }
   ],
   "source": [
    "plt.figure(figsize=(16, 9))\n",
    "\n",
    "plt.hist(\n",
    "    probas[:, 1],\n",
    "    bins=100\n",
    ")\n",
    "\n",
    "plt.grid()\n",
    "plt.show()"
   ]
  },
  {
   "cell_type": "code",
   "execution_count": null,
   "metadata": {},
   "outputs": [],
   "source": []
  },
  {
   "cell_type": "markdown",
   "metadata": {},
   "source": [
    "### Вывод\n",
    "- классификатор выдаёт адекватные значения. Осталось только протестировать его на `Kaggle`."
   ]
  }
 ],
 "metadata": {
  "kernelspec": {
   "display_name": "Python 3",
   "language": "python",
   "name": "python3"
  },
  "language_info": {
   "codemirror_mode": {
    "name": "ipython",
    "version": 3
   },
   "file_extension": ".py",
   "mimetype": "text/x-python",
   "name": "python",
   "nbconvert_exporter": "python",
   "pygments_lexer": "ipython3",
   "version": "3.6.9"
  }
 },
 "nbformat": 4,
 "nbformat_minor": 2
}
